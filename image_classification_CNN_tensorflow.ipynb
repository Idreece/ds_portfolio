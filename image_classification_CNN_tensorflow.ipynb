{
 "cells": [
  {
   "cell_type": "code",
   "execution_count": 1,
   "source": [
    "import tensorflow as tf\n",
    "import numpy as np\n",
    "import matplotlib.pyplot as plt\n",
    "import itertools\n",
    "\n",
    "from sklearn.metrics import confusion_matrix\n",
    "from tensorflow.keras.layers import Input, Conv2D, Dense, Flatten, Dropout, GlobalMaxPooling2D, MaxPooling2D, BatchNormalization\n",
    "from tensorflow.keras.models import Model"
   ],
   "outputs": [],
   "metadata": {}
  },
  {
   "cell_type": "code",
   "execution_count": 2,
   "source": [
    "def plot_confusion_matrix(cm,\n",
    "                          classes,\n",
    "                          normalise=False,\n",
    "                          title='Confusion Matrix',\n",
    "                          cmap=plt.cm.Blues):\n",
    "  if normalise:\n",
    "    cm = cm.astype('float')/cm.sum(axis=1)[:np.newaxis]\n",
    "    print('normalised confusion matrix')\n",
    "  else:\n",
    "    print('non-normalised confusion matrix')\n",
    "\n",
    "  plt.imshow(cm,interpolation='nearest',cmap=cmap)\n",
    "  plt.title(title)\n",
    "  plt.colorbar()\n",
    "  tick_marks = np.arange(len(classes))\n",
    "  plt.xticks(tick_marks,classes)\n",
    "  plt.yticks(tick_marks,classes)\n",
    "\n",
    "  fmt = '.2f' if normalise else 'd'\n",
    "  thresh = cm.max()/2\n",
    "\n",
    "  for i,j in itertools.product(range(cm.shape[0]), range(cm.shape[1])):\n",
    "    plt.text(j,i, format(cm[i,j],fmt),\n",
    "             horizontalalignment='center',\n",
    "             color='white' if cm[i,j] > thresh else 'black')\n",
    "  \n",
    "  plt.tight_layout()\n",
    "  plt.xlabel('True Label')\n",
    "  plt.ylabel('Predicted Label')\n",
    "  plt.show()"
   ],
   "outputs": [],
   "metadata": {}
  },
  {
   "cell_type": "code",
   "execution_count": 3,
   "source": [
    "cifar10 = tf.keras.datasets.cifar10\n",
    "\n",
    "(x_train, y_train), (x_test, y_test) = cifar10.load_data()\n",
    "x_train, x_test = x_train / 255.0, x_test / 255.0\n",
    "y_train, y_test = y_train.flatten(), y_test.flatten()"
   ],
   "outputs": [
    {
     "output_type": "stream",
     "name": "stdout",
     "text": [
      "Downloading data from https://www.cs.toronto.edu/~kriz/cifar-10-python.tar.gz\n",
      "170500096/170498071 [==============================] - 13s 0us/step\n",
      "170508288/170498071 [==============================] - 13s 0us/step\n"
     ]
    }
   ],
   "metadata": {}
  },
  {
   "cell_type": "code",
   "execution_count": 4,
   "source": [
    "K = len(set(y_train))\n",
    "print(K)"
   ],
   "outputs": [
    {
     "output_type": "stream",
     "name": "stdout",
     "text": [
      "10\n"
     ]
    }
   ],
   "metadata": {}
  },
  {
   "cell_type": "code",
   "execution_count": 5,
   "source": [
    "i = Input(shape=x_train[0].shape)\n",
    "x = Conv2D(32, (3, 3), activation='relu', padding='same')(i)\n",
    "x = BatchNormalization()(x)\n",
    "x = Conv2D(32, (3, 3), activation='relu', padding='same')(x)\n",
    "x = BatchNormalization()(x)\n",
    "x = MaxPooling2D((2, 2))(x)\n",
    "x = Conv2D(64, (3, 3), activation='relu', padding='same')(x)\n",
    "x = BatchNormalization()(x)\n",
    "x = Conv2D(64, (3, 3), activation='relu', padding='same')(x)\n",
    "x = BatchNormalization()(x)\n",
    "x = MaxPooling2D((2, 2))(x)\n",
    "x = Conv2D(128, (3, 3), activation='relu', padding='same')(x)\n",
    "x = BatchNormalization()(x)\n",
    "x = Conv2D(128, (3, 3), activation='relu', padding='same')(x)\n",
    "x = BatchNormalization()(x)\n",
    "x = MaxPooling2D((2, 2))(x)\n",
    "# x = GlobalMaxPooling2D()(x)\n",
    "x = Flatten()(x)\n",
    "x = Dropout(0.2)(x)\n",
    "x = Dense(1024, activation='relu')(x)\n",
    "x = Dropout(0.2)(x)\n",
    "x = Dense(K, activation='softmax')(x)\n",
    "\n",
    "model = Model(i, x)"
   ],
   "outputs": [],
   "metadata": {}
  },
  {
   "cell_type": "code",
   "execution_count": 6,
   "source": [
    "model.compile(optimizer='adam',\n",
    "              loss='sparse_categorical_crossentropy',\n",
    "              metrics=['accuracy'])"
   ],
   "outputs": [],
   "metadata": {}
  },
  {
   "cell_type": "code",
   "execution_count": 7,
   "source": [
    "batch_size = 32\n",
    "data_generator = tf.keras.preprocessing.image.ImageDataGenerator(width_shift_range=0.1, height_shift_range=0.1, horizontal_flip=True)\n",
    "train_generator = data_generator.flow(x_train, y_train, batch_size)\n",
    "steps_per_epoch = x_train.shape[0] // batch_size"
   ],
   "outputs": [],
   "metadata": {}
  },
  {
   "cell_type": "code",
   "execution_count": 8,
   "source": [
    "r = model.fit(train_generator, validation_data=(x_test, y_test), steps_per_epoch=steps_per_epoch, epochs=50)"
   ],
   "outputs": [
    {
     "output_type": "stream",
     "name": "stdout",
     "text": [
      "Epoch 1/50\n",
      "1562/1562 [==============================] - 206s 131ms/step - loss: 1.4166 - accuracy: 0.5067 - val_loss: 1.3290 - val_accuracy: 0.5361\n",
      "Epoch 2/50\n",
      "1562/1562 [==============================] - 212s 136ms/step - loss: 0.9915 - accuracy: 0.6537 - val_loss: 0.9099 - val_accuracy: 0.6952\n",
      "Epoch 3/50\n",
      "1562/1562 [==============================] - 217s 139ms/step - loss: 0.8428 - accuracy: 0.7088 - val_loss: 0.9280 - val_accuracy: 0.6877\n",
      "Epoch 4/50\n",
      "1562/1562 [==============================] - 214s 137ms/step - loss: 0.7543 - accuracy: 0.7398 - val_loss: 0.7764 - val_accuracy: 0.7481\n",
      "Epoch 5/50\n",
      "1562/1562 [==============================] - 218s 139ms/step - loss: 0.6857 - accuracy: 0.7669 - val_loss: 0.6502 - val_accuracy: 0.7786\n",
      "Epoch 6/50\n",
      "1562/1562 [==============================] - 215s 138ms/step - loss: 0.6333 - accuracy: 0.7847 - val_loss: 0.6708 - val_accuracy: 0.7876\n",
      "Epoch 7/50\n",
      "1562/1562 [==============================] - 215s 137ms/step - loss: 0.5944 - accuracy: 0.7990 - val_loss: 0.6188 - val_accuracy: 0.7967\n",
      "Epoch 8/50\n",
      "1562/1562 [==============================] - 219s 140ms/step - loss: 0.5640 - accuracy: 0.8098 - val_loss: 0.5425 - val_accuracy: 0.8200\n",
      "Epoch 9/50\n",
      "1562/1562 [==============================] - 225s 144ms/step - loss: 0.5270 - accuracy: 0.8221 - val_loss: 0.6094 - val_accuracy: 0.8009\n",
      "Epoch 10/50\n",
      "1562/1562 [==============================] - 220s 141ms/step - loss: 0.5001 - accuracy: 0.8290 - val_loss: 0.5808 - val_accuracy: 0.8098\n",
      "Epoch 11/50\n",
      "1562/1562 [==============================] - 217s 139ms/step - loss: 0.4764 - accuracy: 0.8368 - val_loss: 0.4944 - val_accuracy: 0.8339\n",
      "Epoch 12/50\n",
      "1562/1562 [==============================] - 215s 138ms/step - loss: 0.4498 - accuracy: 0.8468 - val_loss: 0.5864 - val_accuracy: 0.8146\n",
      "Epoch 13/50\n",
      "1562/1562 [==============================] - 209s 134ms/step - loss: 0.4304 - accuracy: 0.8518 - val_loss: 0.5805 - val_accuracy: 0.8066\n",
      "Epoch 14/50\n",
      "1562/1562 [==============================] - 208s 133ms/step - loss: 0.4126 - accuracy: 0.8573 - val_loss: 0.5435 - val_accuracy: 0.8235\n",
      "Epoch 15/50\n",
      "1562/1562 [==============================] - 211s 135ms/step - loss: 0.3964 - accuracy: 0.8641 - val_loss: 0.5340 - val_accuracy: 0.8218\n",
      "Epoch 16/50\n",
      "1562/1562 [==============================] - 212s 135ms/step - loss: 0.3816 - accuracy: 0.8706 - val_loss: 0.5116 - val_accuracy: 0.8366\n",
      "Epoch 17/50\n",
      "1562/1562 [==============================] - 211s 135ms/step - loss: 0.3658 - accuracy: 0.8751 - val_loss: 0.4895 - val_accuracy: 0.8367\n",
      "Epoch 18/50\n",
      "1562/1562 [==============================] - 211s 135ms/step - loss: 0.3526 - accuracy: 0.8791 - val_loss: 0.4750 - val_accuracy: 0.8440\n",
      "Epoch 19/50\n",
      "1562/1562 [==============================] - 211s 135ms/step - loss: 0.3436 - accuracy: 0.8812 - val_loss: 0.4293 - val_accuracy: 0.8655\n",
      "Epoch 20/50\n",
      "1562/1562 [==============================] - 210s 135ms/step - loss: 0.3304 - accuracy: 0.8858 - val_loss: 0.4166 - val_accuracy: 0.8622\n",
      "Epoch 21/50\n",
      "1562/1562 [==============================] - 305s 195ms/step - loss: 0.3224 - accuracy: 0.8888 - val_loss: 0.4508 - val_accuracy: 0.8566\n",
      "Epoch 22/50\n",
      "1562/1562 [==============================] - 212s 136ms/step - loss: 0.3147 - accuracy: 0.8920 - val_loss: 0.4581 - val_accuracy: 0.8533\n",
      "Epoch 23/50\n",
      "1562/1562 [==============================] - 212s 135ms/step - loss: 0.3090 - accuracy: 0.8934 - val_loss: 0.4779 - val_accuracy: 0.8475\n",
      "Epoch 24/50\n",
      "1562/1562 [==============================] - 213s 136ms/step - loss: 0.3008 - accuracy: 0.8966 - val_loss: 0.4701 - val_accuracy: 0.8503\n",
      "Epoch 25/50\n",
      "1562/1562 [==============================] - 212s 136ms/step - loss: 0.2911 - accuracy: 0.9013 - val_loss: 0.4520 - val_accuracy: 0.8581\n",
      "Epoch 26/50\n",
      "1562/1562 [==============================] - 213s 136ms/step - loss: 0.2826 - accuracy: 0.9025 - val_loss: 0.4257 - val_accuracy: 0.8667\n",
      "Epoch 27/50\n",
      "1562/1562 [==============================] - 228s 146ms/step - loss: 0.2757 - accuracy: 0.9055 - val_loss: 0.4123 - val_accuracy: 0.8707\n",
      "Epoch 28/50\n",
      "1562/1562 [==============================] - 215s 137ms/step - loss: 0.2691 - accuracy: 0.9083 - val_loss: 0.4595 - val_accuracy: 0.8516\n",
      "Epoch 29/50\n",
      "1562/1562 [==============================] - 214s 137ms/step - loss: 0.2631 - accuracy: 0.9098 - val_loss: 0.4665 - val_accuracy: 0.8575\n",
      "Epoch 30/50\n",
      "1562/1562 [==============================] - 212s 135ms/step - loss: 0.2623 - accuracy: 0.9101 - val_loss: 0.4255 - val_accuracy: 0.8695\n",
      "Epoch 31/50\n",
      "1562/1562 [==============================] - 211s 135ms/step - loss: 0.2478 - accuracy: 0.9145 - val_loss: 0.3959 - val_accuracy: 0.8762\n",
      "Epoch 32/50\n",
      "1562/1562 [==============================] - 213s 136ms/step - loss: 0.2454 - accuracy: 0.9153 - val_loss: 0.4230 - val_accuracy: 0.8714\n",
      "Epoch 33/50\n",
      "1562/1562 [==============================] - 229s 146ms/step - loss: 0.2421 - accuracy: 0.9177 - val_loss: 0.3954 - val_accuracy: 0.8811\n",
      "Epoch 34/50\n",
      "1562/1562 [==============================] - 214s 137ms/step - loss: 0.2375 - accuracy: 0.9197 - val_loss: 0.4087 - val_accuracy: 0.8769\n",
      "Epoch 35/50\n",
      "1562/1562 [==============================] - 217s 139ms/step - loss: 0.2321 - accuracy: 0.9193 - val_loss: 0.3900 - val_accuracy: 0.8777\n",
      "Epoch 36/50\n",
      "1562/1562 [==============================] - 216s 138ms/step - loss: 0.2289 - accuracy: 0.9220 - val_loss: 0.4608 - val_accuracy: 0.8628\n",
      "Epoch 37/50\n",
      "1562/1562 [==============================] - 215s 138ms/step - loss: 0.2235 - accuracy: 0.9229 - val_loss: 0.4387 - val_accuracy: 0.8697\n",
      "Epoch 38/50\n",
      "1562/1562 [==============================] - 216s 138ms/step - loss: 0.2225 - accuracy: 0.9243 - val_loss: 0.4458 - val_accuracy: 0.8649\n",
      "Epoch 39/50\n",
      "1562/1562 [==============================] - 214s 137ms/step - loss: 0.2168 - accuracy: 0.9253 - val_loss: 0.4295 - val_accuracy: 0.8702\n",
      "Epoch 40/50\n",
      "1562/1562 [==============================] - 211s 135ms/step - loss: 0.2173 - accuracy: 0.9247 - val_loss: 0.6251 - val_accuracy: 0.8327\n",
      "Epoch 41/50\n",
      "1562/1562 [==============================] - 548s 351ms/step - loss: 0.2125 - accuracy: 0.9269 - val_loss: 0.3940 - val_accuracy: 0.8760\n",
      "Epoch 42/50\n",
      "1562/1562 [==============================] - 213s 137ms/step - loss: 0.2052 - accuracy: 0.9295 - val_loss: 0.3889 - val_accuracy: 0.8801\n",
      "Epoch 43/50\n",
      "1562/1562 [==============================] - 217s 139ms/step - loss: 0.2041 - accuracy: 0.9294 - val_loss: 0.4307 - val_accuracy: 0.8728\n",
      "Epoch 44/50\n",
      "1562/1562 [==============================] - 218s 140ms/step - loss: 0.1997 - accuracy: 0.9297 - val_loss: 0.4509 - val_accuracy: 0.8745\n",
      "Epoch 45/50\n",
      "1562/1562 [==============================] - 218s 139ms/step - loss: 0.2020 - accuracy: 0.9309 - val_loss: 0.3879 - val_accuracy: 0.8809\n",
      "Epoch 46/50\n",
      "1562/1562 [==============================] - 217s 139ms/step - loss: 0.1919 - accuracy: 0.9338 - val_loss: 0.4302 - val_accuracy: 0.8793\n",
      "Epoch 47/50\n",
      "1562/1562 [==============================] - 217s 139ms/step - loss: 0.1940 - accuracy: 0.9336 - val_loss: 0.4449 - val_accuracy: 0.8680\n",
      "Epoch 48/50\n",
      "1562/1562 [==============================] - 217s 139ms/step - loss: 0.1860 - accuracy: 0.9372 - val_loss: 0.3981 - val_accuracy: 0.8813\n",
      "Epoch 49/50\n",
      "1562/1562 [==============================] - 215s 138ms/step - loss: 0.1914 - accuracy: 0.9334 - val_loss: 0.3991 - val_accuracy: 0.8832\n",
      "Epoch 50/50\n",
      "1562/1562 [==============================] - 216s 138ms/step - loss: 0.1828 - accuracy: 0.9374 - val_loss: 0.4146 - val_accuracy: 0.8835\n"
     ]
    }
   ],
   "metadata": {}
  },
  {
   "cell_type": "code",
   "execution_count": 9,
   "source": [
    "plt.plot(r.history['val_loss'],label = 'Val_Loss')\n",
    "plt.plot(r.history['loss'],label = 'Loss')\n",
    "plt.legend()"
   ],
   "outputs": [
    {
     "output_type": "execute_result",
     "data": {
      "text/plain": [
       "<matplotlib.legend.Legend at 0x7ff8d54f4d50>"
      ]
     },
     "metadata": {},
     "execution_count": 9
    },
    {
     "output_type": "display_data",
     "data": {
      "text/plain": [
       "<Figure size 432x288 with 1 Axes>"
      ],
      "image/png": "[encoded data removed]"
     },
     "metadata": {
      "needs_background": "light"
     }
    }
   ],
   "metadata": {}
  },
  {
   "cell_type": "code",
   "execution_count": 10,
   "source": [
    "plt.plot(r.history['val_accuracy'],label = 'Val_accuracy')\n",
    "plt.plot(r.history['accuracy'],label = 'accuracy')\n",
    "plt.legend()"
   ],
   "outputs": [
    {
     "output_type": "execute_result",
     "data": {
      "text/plain": [
       "<matplotlib.legend.Legend at 0x7ff8d5c75350>"
      ]
     },
     "metadata": {},
     "execution_count": 10
    },
    {
     "output_type": "display_data",
     "data": {
      "text/plain": [
       "<Figure size 432x288 with 1 Axes>"
      ],
      "image/png": "[encoded data removed]"
     },
     "metadata": {
      "needs_background": "light"
     }
    }
   ],
   "metadata": {}
  },
  {
   "cell_type": "code",
   "execution_count": 13,
   "source": [
    "predictions = model.predict(x_test).argmax(axis=1)"
   ],
   "outputs": [],
   "metadata": {}
  },
  {
   "cell_type": "code",
   "execution_count": 14,
   "source": [
    "cm = confusion_matrix(y_test,predictions)"
   ],
   "outputs": [],
   "metadata": {}
  },
  {
   "cell_type": "code",
   "execution_count": 15,
   "source": [
    "plot_confusion_matrix(cm,list(range(10)))"
   ],
   "outputs": [
    {
     "output_type": "stream",
     "name": "stdout",
     "text": [
      "non-normalised confusion matrix\n"
     ]
    },
    {
     "output_type": "display_data",
     "data": {
      "text/plain": [
       "<Figure size 432x288 with 2 Axes>"
      ],
      "image/png": "[encoded data removed]"
     },
     "metadata": {
      "needs_background": "light"
     }
    }
   ],
   "metadata": {}
  },
  {
   "cell_type": "code",
   "execution_count": 16,
   "source": [
    "model.summary()"
   ],
   "outputs": [
    {
     "output_type": "stream",
     "name": "stdout",
     "text": [
      "Model: \"model\"\n",
      "_________________________________________________________________\n",
      "Layer (type)                 Output Shape              Param #   \n",
      "=================================================================\n",
      "input_1 (InputLayer)         [(None, 32, 32, 3)]       0         \n",
      "_________________________________________________________________\n",
      "conv2d (Conv2D)              (None, 32, 32, 32)        896       \n",
      "_________________________________________________________________\n",
      "batch_normalization (BatchNo (None, 32, 32, 32)        128       \n",
      "_________________________________________________________________\n",
      "conv2d_1 (Conv2D)            (None, 32, 32, 32)        9248      \n",
      "_________________________________________________________________\n",
      "batch_normalization_1 (Batch (None, 32, 32, 32)        128       \n",
      "_________________________________________________________________\n",
      "max_pooling2d (MaxPooling2D) (None, 16, 16, 32)        0         \n",
      "_________________________________________________________________\n",
      "conv2d_2 (Conv2D)            (None, 16, 16, 64)        18496     \n",
      "_________________________________________________________________\n",
      "batch_normalization_2 (Batch (None, 16, 16, 64)        256       \n",
      "_________________________________________________________________\n",
      "conv2d_3 (Conv2D)            (None, 16, 16, 64)        36928     \n",
      "_________________________________________________________________\n",
      "batch_normalization_3 (Batch (None, 16, 16, 64)        256       \n",
      "_________________________________________________________________\n",
      "max_pooling2d_1 (MaxPooling2 (None, 8, 8, 64)          0         \n",
      "_________________________________________________________________\n",
      "conv2d_4 (Conv2D)            (None, 8, 8, 128)         73856     \n",
      "_________________________________________________________________\n",
      "batch_normalization_4 (Batch (None, 8, 8, 128)         512       \n",
      "_________________________________________________________________\n",
      "conv2d_5 (Conv2D)            (None, 8, 8, 128)         147584    \n",
      "_________________________________________________________________\n",
      "batch_normalization_5 (Batch (None, 8, 8, 128)         512       \n",
      "_________________________________________________________________\n",
      "max_pooling2d_2 (MaxPooling2 (None, 4, 4, 128)         0         \n",
      "_________________________________________________________________\n",
      "flatten (Flatten)            (None, 2048)              0         \n",
      "_________________________________________________________________\n",
      "dropout (Dropout)            (None, 2048)              0         \n",
      "_________________________________________________________________\n",
      "dense (Dense)                (None, 1024)              2098176   \n",
      "_________________________________________________________________\n",
      "dropout_1 (Dropout)          (None, 1024)              0         \n",
      "_________________________________________________________________\n",
      "dense_1 (Dense)              (None, 10)                10250     \n",
      "=================================================================\n",
      "Total params: 2,397,226\n",
      "Trainable params: 2,396,330\n",
      "Non-trainable params: 896\n",
      "_________________________________________________________________\n"
     ]
    }
   ],
   "metadata": {}
  },
  {
   "cell_type": "code",
   "execution_count": 17,
   "source": [
    "labels = '''airplane\n",
    "automobile\n",
    "bird\n",
    "cat\n",
    "deer\n",
    "dog\n",
    "frog\n",
    "horse\n",
    "ship\n",
    "truck'''.split()"
   ],
   "outputs": [],
   "metadata": {}
  },
  {
   "cell_type": "code",
   "execution_count": 23,
   "source": [
    "misclassified_idx = np.where(predictions != y_test)[0]\n",
    "i = np.random.choice(misclassified_idx)\n",
    "plt.imshow(x_test[i], cmap='gray')\n",
    "plt.title(\"True label: %s Predicted: %s\" % (labels[y_test[i]], labels[predictions[i]]))"
   ],
   "outputs": [
    {
     "output_type": "execute_result",
     "data": {
      "text/plain": [
       "Text(0.5, 1.0, 'True label: horse Predicted: airplane')"
      ]
     },
     "metadata": {},
     "execution_count": 23
    },
    {
     "output_type": "display_data",
     "data": {
      "text/plain": [
       "<Figure size 432x288 with 1 Axes>"
      ],
      "image/png": "[encoded data removed]"
     },
     "metadata": {
      "needs_background": "light"
     }
    }
   ],
   "metadata": {}
  },
  {
   "cell_type": "code",
   "execution_count": null,
   "source": [],
   "outputs": [],
   "metadata": {}
  }
 ],
 "metadata": {
  "orig_nbformat": 4,
  "language_info": {
   "name": "python",
   "version": "3.7.6",
   "mimetype": "text/x-python",
   "codemirror_mode": {
    "name": "ipython",
    "version": 3
   },
   "pygments_lexer": "ipython3",
   "nbconvert_exporter": "python",
   "file_extension": ".py"
  },
  "kernelspec": {
   "name": "python3",
   "display_name": "Python 3.7.6 64-bit ('base': conda)"
  },
  "interpreter": {
   "hash": "dca0ade3e726a953b501b15e8e990130d2b7799f14cfd9f4271676035ebe5511"
  }
 },
 "nbformat": 4,
 "nbformat_minor": 2
}